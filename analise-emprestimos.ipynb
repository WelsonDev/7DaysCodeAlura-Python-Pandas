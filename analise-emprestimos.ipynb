{
 "cells": [
  {
   "cell_type": "code",
   "execution_count": 8,
   "metadata": {},
   "outputs": [
    {
     "data": {
      "text/plain": [
       "ALUNO DE GRADUAÇÃO                 74814\n",
       "ALUNO DE PÓS-GRADUAÇÃO             14337\n",
       "DOCENTE                             3630\n",
       "SERVIDOR TÉCNICO-ADMINISTRATIVO     1755\n",
       "ALUNO MÉDIO/TÉCNICO                  431\n",
       "DOCENTE EXTERNO                      256\n",
       "USUÁRIO EXTERNO                      133\n",
       "OUTROS                                 1\n",
       "Name: tipo_vinculo_usuario, dtype: int64"
      ]
     },
     "execution_count": 8,
     "metadata": {},
     "output_type": "execute_result"
    }
   ],
   "source": [
    "import pandas as pd\n",
    "\n",
    "dados = pd.read_csv(\"C:/Users\\Welson\\Documents\\Development\\Data Science/7DaysCodeAlura-Python-Pandas\\datasets\\dados_emprestimos\\emprestimos-20101.csv\")\n",
    "dados2 = pd.read_csv(\"C:/Users\\Welson\\Documents\\Development\\Data Science/7DaysCodeAlura-Python-Pandas\\datasets\\dados_emprestimos\\emprestimos-20102.csv\")\n",
    "dados[\"tipo_vinculo_usuario\"].value_counts()\n",
    "#dados2[\"tipo_vinculo_usuario\"].value_counts()\n"
   ]
  },
  {
   "cell_type": "code",
   "execution_count": 10,
   "metadata": {},
   "outputs": [
    {
     "ename": "ValueError",
     "evalue": "The truth value of a Series is ambiguous. Use a.empty, a.bool(), a.item(), a.any() or a.all().",
     "output_type": "error",
     "traceback": [
      "\u001b[1;31m---------------------------------------------------------------------------\u001b[0m",
      "\u001b[1;31mValueError\u001b[0m                                Traceback (most recent call last)",
      "Cell \u001b[1;32mIn[10], line 2\u001b[0m\n\u001b[0;32m      1\u001b[0m dados\u001b[39m.\u001b[39mhead()\n\u001b[1;32m----> 2\u001b[0m \u001b[39mif\u001b[39;00m dados[\u001b[39m\"\u001b[39m\u001b[39mdata_renovacao\u001b[39m\u001b[39m\"\u001b[39m] \u001b[39m==\u001b[39m \u001b[39m\"\u001b[39m\u001b[39mNaN\u001b[39m\u001b[39m\"\u001b[39m:\n\u001b[0;32m      3\u001b[0m     dados[\u001b[39m\"\u001b[39m\u001b[39mdata_renovacao\u001b[39m\u001b[39m\"\u001b[39m] \u001b[39m=\u001b[39m \u001b[39m\"\u001b[39m\u001b[39mSemRenovacao\u001b[39m\u001b[39m\"\u001b[39m\n\u001b[0;32m      4\u001b[0m \u001b[39melse\u001b[39;00m:\n",
      "File \u001b[1;32mc:\\Users\\Welson\\AppData\\Local\\Programs\\Python\\Python311\\Lib\\site-packages\\pandas\\core\\generic.py:1527\u001b[0m, in \u001b[0;36mNDFrame.__nonzero__\u001b[1;34m(self)\u001b[0m\n\u001b[0;32m   1525\u001b[0m \u001b[39m@final\u001b[39m\n\u001b[0;32m   1526\u001b[0m \u001b[39mdef\u001b[39;00m \u001b[39m__nonzero__\u001b[39m(\u001b[39mself\u001b[39m) \u001b[39m-\u001b[39m\u001b[39m>\u001b[39m NoReturn:\n\u001b[1;32m-> 1527\u001b[0m     \u001b[39mraise\u001b[39;00m \u001b[39mValueError\u001b[39;00m(\n\u001b[0;32m   1528\u001b[0m         \u001b[39mf\u001b[39m\u001b[39m\"\u001b[39m\u001b[39mThe truth value of a \u001b[39m\u001b[39m{\u001b[39;00m\u001b[39mtype\u001b[39m(\u001b[39mself\u001b[39m)\u001b[39m.\u001b[39m\u001b[39m__name__\u001b[39m\u001b[39m}\u001b[39;00m\u001b[39m is ambiguous. \u001b[39m\u001b[39m\"\u001b[39m\n\u001b[0;32m   1529\u001b[0m         \u001b[39m\"\u001b[39m\u001b[39mUse a.empty, a.bool(), a.item(), a.any() or a.all().\u001b[39m\u001b[39m\"\u001b[39m\n\u001b[0;32m   1530\u001b[0m     )\n",
      "\u001b[1;31mValueError\u001b[0m: The truth value of a Series is ambiguous. Use a.empty, a.bool(), a.item(), a.any() or a.all()."
     ]
    }
   ],
   "source": [
    "dados.head()\n",
    "if dados[\"data_renovacao\"] == \"NaN\":\n",
    "    dados[\"data_renovacao\"] = \"SemRenovacao\"\n",
    "else:\n",
    "    dados[\"data_renovacao\"]\n",
    "\n",
    "dados.head()\n"
   ]
  }
 ],
 "metadata": {
  "kernelspec": {
   "display_name": "Python 3",
   "language": "python",
   "name": "python3"
  },
  "language_info": {
   "codemirror_mode": {
    "name": "ipython",
    "version": 3
   },
   "file_extension": ".py",
   "mimetype": "text/x-python",
   "name": "python",
   "nbconvert_exporter": "python",
   "pygments_lexer": "ipython3",
   "version": "3.11.1"
  },
  "orig_nbformat": 4
 },
 "nbformat": 4,
 "nbformat_minor": 2
}
