{
 "cells": [
  {
   "cell_type": "code",
   "execution_count": 2,
   "metadata": {},
   "outputs": [
    {
     "data": {
      "text/plain": [
       "ALUNO DE GRADUAÇÃO                 74814\n",
       "ALUNO DE PÓS-GRADUAÇÃO             14337\n",
       "DOCENTE                             3630\n",
       "SERVIDOR TÉCNICO-ADMINISTRATIVO     1755\n",
       "ALUNO MÉDIO/TÉCNICO                  431\n",
       "DOCENTE EXTERNO                      256\n",
       "USUÁRIO EXTERNO                      133\n",
       "OUTROS                                 1\n",
       "Name: tipo_vinculo_usuario, dtype: int64"
      ]
     },
     "execution_count": 2,
     "metadata": {},
     "output_type": "execute_result"
    }
   ],
   "source": [
    "import pandas as pd\n",
    "\n",
    "dados = pd.read_csv(\"C:/Users\\Welson\\Documents\\Development\\Data Science/7DaysCodeAlura-Python-Pandas\\datasets\\dados_emprestimos\\emprestimos-20101.csv\")\n",
    "dados2 = pd.read_csv(\"C:/Users\\Welson\\Documents\\Development\\Data Science/7DaysCodeAlura-Python-Pandas\\datasets\\dados_emprestimos\\emprestimos-20102.csv\")\n",
    "dados[\"tipo_vinculo_usuario\"].value_counts()\n",
    "#dados2[\"tipo_vinculo_usuario\"].value_counts()\n"
   ]
  },
  {
   "cell_type": "code",
   "execution_count": 5,
   "metadata": {},
   "outputs": [
    {
     "data": {
      "text/html": [
       "<div>\n",
       "<style scoped>\n",
       "    .dataframe tbody tr th:only-of-type {\n",
       "        vertical-align: middle;\n",
       "    }\n",
       "\n",
       "    .dataframe tbody tr th {\n",
       "        vertical-align: top;\n",
       "    }\n",
       "\n",
       "    .dataframe thead th {\n",
       "        text-align: right;\n",
       "    }\n",
       "</style>\n",
       "<table border=\"1\" class=\"dataframe\">\n",
       "  <thead>\n",
       "    <tr style=\"text-align: right;\">\n",
       "      <th></th>\n",
       "      <th>id_emprestimo</th>\n",
       "      <th>codigo_barras</th>\n",
       "      <th>data_renovacao</th>\n",
       "      <th>data_emprestimo</th>\n",
       "      <th>data_devolucao</th>\n",
       "      <th>matricula_ou_siape</th>\n",
       "      <th>tipo_vinculo_usuario</th>\n",
       "    </tr>\n",
       "  </thead>\n",
       "  <tbody>\n",
       "    <tr>\n",
       "      <th>0</th>\n",
       "      <td>709684</td>\n",
       "      <td>L095049</td>\n",
       "      <td>NaN</td>\n",
       "      <td>2010/01/04 07:44:10.721000000</td>\n",
       "      <td>2010/01/05 16:26:12.662000000</td>\n",
       "      <td>2.008023e+09</td>\n",
       "      <td>ALUNO DE GRADUAÇÃO</td>\n",
       "    </tr>\n",
       "    <tr>\n",
       "      <th>1</th>\n",
       "      <td>709685</td>\n",
       "      <td>L167050</td>\n",
       "      <td>NaN</td>\n",
       "      <td>2010/01/04 07:44:10.750000000</td>\n",
       "      <td>2010/01/12 07:34:13.934000000</td>\n",
       "      <td>2.008023e+09</td>\n",
       "      <td>ALUNO DE GRADUAÇÃO</td>\n",
       "    </tr>\n",
       "    <tr>\n",
       "      <th>2</th>\n",
       "      <td>709686</td>\n",
       "      <td>2006017618</td>\n",
       "      <td>2010/01/26 08:07:01.738000000</td>\n",
       "      <td>2010/01/04 08:08:44.081000000</td>\n",
       "      <td>2010/02/25 07:36:25.800000000</td>\n",
       "      <td>2.008112e+09</td>\n",
       "      <td>ALUNO DE PÓS-GRADUAÇÃO</td>\n",
       "    </tr>\n",
       "    <tr>\n",
       "      <th>3</th>\n",
       "      <td>709687</td>\n",
       "      <td>L184117</td>\n",
       "      <td>2010/01/18 11:07:46.470000000</td>\n",
       "      <td>2010/01/04 08:24:21.284000000</td>\n",
       "      <td>2010/02/03 08:58:45.692000000</td>\n",
       "      <td>2.007211e+08</td>\n",
       "      <td>ALUNO DE GRADUAÇÃO</td>\n",
       "    </tr>\n",
       "    <tr>\n",
       "      <th>4</th>\n",
       "      <td>709684</td>\n",
       "      <td>L095049</td>\n",
       "      <td>NaN</td>\n",
       "      <td>2010/01/04 07:44:10.721000000</td>\n",
       "      <td>2010/01/05 16:26:12.662000000</td>\n",
       "      <td>2.008023e+09</td>\n",
       "      <td>ALUNO DE GRADUAÇÃO</td>\n",
       "    </tr>\n",
       "  </tbody>\n",
       "</table>\n",
       "</div>"
      ],
      "text/plain": [
       "   id_emprestimo codigo_barras                 data_renovacao  \\\n",
       "0         709684       L095049                            NaN   \n",
       "1         709685       L167050                            NaN   \n",
       "2         709686    2006017618  2010/01/26 08:07:01.738000000   \n",
       "3         709687       L184117  2010/01/18 11:07:46.470000000   \n",
       "4         709684       L095049                            NaN   \n",
       "\n",
       "                 data_emprestimo                 data_devolucao  \\\n",
       "0  2010/01/04 07:44:10.721000000  2010/01/05 16:26:12.662000000   \n",
       "1  2010/01/04 07:44:10.750000000  2010/01/12 07:34:13.934000000   \n",
       "2  2010/01/04 08:08:44.081000000  2010/02/25 07:36:25.800000000   \n",
       "3  2010/01/04 08:24:21.284000000  2010/02/03 08:58:45.692000000   \n",
       "4  2010/01/04 07:44:10.721000000  2010/01/05 16:26:12.662000000   \n",
       "\n",
       "   matricula_ou_siape    tipo_vinculo_usuario  \n",
       "0        2.008023e+09      ALUNO DE GRADUAÇÃO  \n",
       "1        2.008023e+09      ALUNO DE GRADUAÇÃO  \n",
       "2        2.008112e+09  ALUNO DE PÓS-GRADUAÇÃO  \n",
       "3        2.007211e+08      ALUNO DE GRADUAÇÃO  \n",
       "4        2.008023e+09      ALUNO DE GRADUAÇÃO  "
      ]
     },
     "execution_count": 5,
     "metadata": {},
     "output_type": "execute_result"
    }
   ],
   "source": [
    "dados.head()"
   ]
  },
  {
   "cell_type": "code",
   "execution_count": 4,
   "metadata": {},
   "outputs": [
    {
     "data": {
      "text/plain": [
       "2006039067    28\n",
       "2009040654    20\n",
       "2006031210    19\n",
       "2009038164    16\n",
       "2009052724    16\n",
       "              ..\n",
       "L169814        1\n",
       "L155236        1\n",
       "2010013754     1\n",
       "L193641        1\n",
       "Y011015        1\n",
       "Name: codigo_barras, Length: 44158, dtype: int64"
      ]
     },
     "execution_count": 4,
     "metadata": {},
     "output_type": "execute_result"
    }
   ],
   "source": [
    "dados[\"codigo_barras\"].value_counts()\n"
   ]
  },
  {
   "cell_type": "code",
   "execution_count": 17,
   "metadata": {},
   "outputs": [
    {
     "data": {
      "text/plain": [
       "0   2010-01-04 07:44:10.721\n",
       "1   2010-01-04 07:44:10.750\n",
       "2   2010-01-04 08:08:44.081\n",
       "3   2010-01-04 08:24:21.284\n",
       "4   2010-01-04 07:44:10.721\n",
       "Name: data_emprestimo, dtype: datetime64[ns]"
      ]
     },
     "execution_count": 17,
     "metadata": {},
     "output_type": "execute_result"
    }
   ],
   "source": [
    "# dados.data_emprestimo.dt.date\n",
    "dados_data = dados.data_emprestimo = pd.to_datetime(dados.data_emprestimo)\n",
    "# dados_data.data_emprestimo.dt.date\n",
    "dados_data.head()"
   ]
  }
 ],
 "metadata": {
  "kernelspec": {
   "display_name": "Python 3",
   "language": "python",
   "name": "python3"
  },
  "language_info": {
   "codemirror_mode": {
    "name": "ipython",
    "version": 3
   },
   "file_extension": ".py",
   "mimetype": "text/x-python",
   "name": "python",
   "nbconvert_exporter": "python",
   "pygments_lexer": "ipython3",
   "version": "3.11.1"
  },
  "orig_nbformat": 4
 },
 "nbformat": 4,
 "nbformat_minor": 2
}
