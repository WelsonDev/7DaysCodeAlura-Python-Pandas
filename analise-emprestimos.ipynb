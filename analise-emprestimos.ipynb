{
 "cells": [
  {
   "cell_type": "code",
   "execution_count": 1,
   "metadata": {},
   "outputs": [],
   "source": [
    "import pandas as pd"
   ]
  },
  {
   "attachments": {},
   "cell_type": "markdown",
   "metadata": {},
   "source": [
    "Importando dados para analise"
   ]
  },
  {
   "cell_type": "code",
   "execution_count": 3,
   "metadata": {},
   "outputs": [],
   "source": [
    "dados_2010_1 = pd.read_csv('datasets\\dados_emprestimos/emprestimos-20101.csv')\n",
    "dados_2010_2 = pd.read_csv('datasets\\dados_emprestimos/emprestimos-20102.csv')\n",
    "dados_2011_1 = pd.read_csv('datasets\\dados_emprestimos/emprestimos-20111.csv')\n",
    "dados_2011_2 = pd.read_csv('datasets\\dados_emprestimos/emprestimos-20112.csv')\n",
    "dados_2012_1 = pd.read_csv('datasets\\dados_emprestimos/emprestimos-20121.csv')\n",
    "dados_2012_2 = pd.read_csv('datasets\\dados_emprestimos/emprestimos-20122.csv')\n",
    "dados_2013_1 = pd.read_csv('datasets\\dados_emprestimos/emprestimos-20131.csv')\n",
    "dados_2013_2 = pd.read_csv('datasets\\dados_emprestimos/emprestimos-20132.csv')\n",
    "dados_2014_1 = pd.read_csv('datasets\\dados_emprestimos/emprestimos-20141.csv')\n",
    "dados_2014_2 = pd.read_csv('datasets\\dados_emprestimos/emprestimos-20142.csv')\n",
    "dados_2015_1 = pd.read_csv('datasets\\dados_emprestimos/emprestimos-20151.csv')\n",
    "dados_2015_2 = pd.read_csv('datasets\\dados_emprestimos/emprestimos-20152.csv')\n",
    "dados_2016_1 = pd.read_csv('datasets\\dados_emprestimos/emprestimos-20161.csv')\n",
    "dados_2016_2 = pd.read_csv('datasets\\dados_emprestimos/emprestimos-20162.csv')\n",
    "dados_2017_1 = pd.read_csv('datasets\\dados_emprestimos/emprestimos-20171.csv')\n",
    "dados_2017_2 = pd.read_csv('datasets\\dados_emprestimos/emprestimos-20172.csv')\n",
    "dados_2018_1 = pd.read_csv('datasets\\dados_emprestimos/emprestimos-20181.csv')\n",
    "dados_2018_2 = pd.read_csv('datasets\\dados_emprestimos/emprestimos-20182.csv')\n",
    "dados_2019_1 = pd.read_csv('datasets\\dados_emprestimos/emprestimos-20191.csv')\n",
    "dados_2019_2 = pd.read_csv('datasets\\dados_emprestimos/emprestimos-20192.csv')\n",
    "dados_2020_1 = pd.read_csv('datasets\\dados_emprestimos/emprestimos-20201.csv')\n",
    "\n",
    "\n",
    "#dados_2020_1[\"tipo_vinculo_usuario\"].value_counts()\n"
   ]
  },
  {
   "attachments": {},
   "cell_type": "markdown",
   "metadata": {},
   "source": [
    "Juntando todos dados em um dataframe"
   ]
  },
  {
   "cell_type": "code",
   "execution_count": 4,
   "metadata": {},
   "outputs": [
    {
     "data": {
      "text/plain": [
       "ALUNO DE GRADUAÇÃO                 1769197\n",
       "ALUNO DE PÓS-GRADUAÇÃO              319442\n",
       "DOCENTE                              78169\n",
       "SERVIDOR TÉCNICO-ADMINISTRATIVO      34122\n",
       "ALUNO MÉDIO/TÉCNICO                  29877\n",
       "DOCENTE EXTERNO                      24465\n",
       "USUÁRIO EXTERNO                       2740\n",
       "OUTROS                                   6\n",
       "Name: tipo_vinculo_usuario, dtype: int64"
      ]
     },
     "execution_count": 4,
     "metadata": {},
     "output_type": "execute_result"
    }
   ],
   "source": [
    "\n",
    "emprestimos = pd.concat([dados_2010_1,dados_2010_2,dados_2011_1,dados_2011_2,dados_2012_1,dados_2012_2,dados_2013_1,dados_2013_2,dados_2014_1,\n",
    "                                    dados_2014_2,dados_2015_1,dados_2015_2,dados_2016_1,dados_2016_2,dados_2017_1,dados_2017_2,dados_2018_1,dados_2018_2,\n",
    "                                    dados_2019_1,dados_2019_2,dados_2020_1],ignore_index=True)\n",
    "\n",
    "emprestimos[\"tipo_vinculo_usuario\"].value_counts()\n",
    "\n"
   ]
  },
  {
   "cell_type": "code",
   "execution_count": null,
   "metadata": {},
   "outputs": [],
   "source": [
    "emprestimos.head()"
   ]
  },
  {
   "cell_type": "code",
   "execution_count": null,
   "metadata": {},
   "outputs": [],
   "source": [
    "dataframe[\"codigo_barras\"].value_counts()\n"
   ]
  },
  {
   "cell_type": "code",
   "execution_count": null,
   "metadata": {},
   "outputs": [],
   "source": [
    "# dados.data_emprestimo.dt.date\n",
    "dados_data = dados.data_emprestimo = pd.to_datetime(dados.data_emprestimo)\n",
    "# dados_data.data_emprestimo.dt.date\n",
    "dados_data.head()"
   ]
  }
 ],
 "metadata": {
  "kernelspec": {
   "display_name": "Python 3",
   "language": "python",
   "name": "python3"
  },
  "language_info": {
   "codemirror_mode": {
    "name": "ipython",
    "version": 3
   },
   "file_extension": ".py",
   "mimetype": "text/x-python",
   "name": "python",
   "nbconvert_exporter": "python",
   "pygments_lexer": "ipython3",
   "version": "3.11.1"
  },
  "orig_nbformat": 4
 },
 "nbformat": 4,
 "nbformat_minor": 2
}
