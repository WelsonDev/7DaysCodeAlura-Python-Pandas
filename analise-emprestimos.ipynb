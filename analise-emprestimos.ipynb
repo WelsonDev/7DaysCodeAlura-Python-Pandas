{
 "cells": [
  {
   "cell_type": "code",
   "execution_count": 23,
   "metadata": {},
   "outputs": [
    {
     "data": {
      "text/plain": [
       "ALUNO DE GRADUAÇÃO                 19382\n",
       "ALUNO DE PÓS-GRADUAÇÃO              3942\n",
       "DOCENTE                             1521\n",
       "DOCENTE EXTERNO                      644\n",
       "SERVIDOR TÉCNICO-ADMINISTRATIVO      640\n",
       "ALUNO MÉDIO/TÉCNICO                  410\n",
       "USUÁRIO EXTERNO                       22\n",
       "Name: tipo_vinculo_usuario, dtype: int64"
      ]
     },
     "execution_count": 23,
     "metadata": {},
     "output_type": "execute_result"
    }
   ],
   "source": [
    "import pandas as pd\n",
    "dados_2010_1 = pd.read_csv('datasets\\dados_emprestimos/emprestimos-20101.csv')\n",
    "dados_2010_2 = pd.read_csv('datasets\\dados_emprestimos/emprestimos-20102.csv')\n",
    "dados_2011_1 = pd.read_csv('datasets\\dados_emprestimos/emprestimos-20111.csv')\n",
    "dados_2011_2 = pd.read_csv('datasets\\dados_emprestimos/emprestimos-20112.csv')\n",
    "dados_2012_1 = pd.read_csv('datasets\\dados_emprestimos/emprestimos-20121.csv')\n",
    "dados_2012_2 = pd.read_csv('datasets\\dados_emprestimos/emprestimos-20122.csv')\n",
    "dados_2013_1 = pd.read_csv('datasets\\dados_emprestimos/emprestimos-20131.csv')\n",
    "dados_2013_2 = pd.read_csv('datasets\\dados_emprestimos/emprestimos-20132.csv')\n",
    "dados_2014_1 = pd.read_csv('datasets\\dados_emprestimos/emprestimos-20141.csv')\n",
    "dados_2014_2 = pd.read_csv('datasets\\dados_emprestimos/emprestimos-20142.csv')\n",
    "dados_2015_1 = pd.read_csv('datasets\\dados_emprestimos/emprestimos-20151.csv')\n",
    "dados_2015_2 = pd.read_csv('datasets\\dados_emprestimos/emprestimos-20152.csv')\n",
    "dados_2016_1 = pd.read_csv('datasets\\dados_emprestimos/emprestimos-20161.csv')\n",
    "dados_2016_2 = pd.read_csv('datasets\\dados_emprestimos/emprestimos-20162.csv')\n",
    "dados_2017_1 = pd.read_csv('datasets\\dados_emprestimos/emprestimos-20171.csv')\n",
    "dados_2017_2 = pd.read_csv('datasets\\dados_emprestimos/emprestimos-20172.csv')\n",
    "dados_2018_1 = pd.read_csv('datasets\\dados_emprestimos/emprestimos-20181.csv')\n",
    "dados_2018_2 = pd.read_csv('datasets\\dados_emprestimos/emprestimos-20182.csv')\n",
    "dados_2019_1 = pd.read_csv('datasets\\dados_emprestimos/emprestimos-20191.csv')\n",
    "dados_2019_2 = pd.read_csv('datasets\\dados_emprestimos/emprestimos-20192.csv')\n",
    "dados_2020_1 = pd.read_csv('datasets\\dados_emprestimos/emprestimos-20201.csv')\n",
    "\n",
    "\n",
    "dados_2020_1[\"tipo_vinculo_usuario\"].value_counts()\n"
   ]
  },
  {
   "cell_type": "code",
   "execution_count": 24,
   "metadata": {},
   "outputs": [
    {
     "data": {
      "text/plain": [
       "ALUNO DE GRADUAÇÃO                 1769197\n",
       "ALUNO DE PÓS-GRADUAÇÃO              319442\n",
       "DOCENTE                              78169\n",
       "SERVIDOR TÉCNICO-ADMINISTRATIVO      34122\n",
       "ALUNO MÉDIO/TÉCNICO                  29877\n",
       "DOCENTE EXTERNO                      24465\n",
       "USUÁRIO EXTERNO                       2740\n",
       "OUTROS                                   6\n",
       "Name: tipo_vinculo_usuario, dtype: int64"
      ]
     },
     "execution_count": 24,
     "metadata": {},
     "output_type": "execute_result"
    }
   ],
   "source": [
    "\n",
    "dataframe = pd.concat([dados_2010_1,dados_2010_2,dados_2011_1,dados_2011_2,dados_2012_1,dados_2012_2,dados_2013_1,dados_2013_2,dados_2014_1,\n",
    "                                    dados_2014_2,dados_2015_1,dados_2015_2,dados_2016_1,dados_2016_2,dados_2017_1,dados_2017_2,dados_2018_1,dados_2018_2,\n",
    "                                    dados_2019_1,dados_2019_2,dados_2020_1],ignore_index=True)\n",
    "\n",
    "dataframe[\"tipo_vinculo_usuario\"].value_counts()\n",
    "\n"
   ]
  },
  {
   "cell_type": "code",
   "execution_count": 25,
   "metadata": {},
   "outputs": [
    {
     "data": {
      "text/html": [
       "<div>\n",
       "<style scoped>\n",
       "    .dataframe tbody tr th:only-of-type {\n",
       "        vertical-align: middle;\n",
       "    }\n",
       "\n",
       "    .dataframe tbody tr th {\n",
       "        vertical-align: top;\n",
       "    }\n",
       "\n",
       "    .dataframe thead th {\n",
       "        text-align: right;\n",
       "    }\n",
       "</style>\n",
       "<table border=\"1\" class=\"dataframe\">\n",
       "  <thead>\n",
       "    <tr style=\"text-align: right;\">\n",
       "      <th></th>\n",
       "      <th>id_emprestimo</th>\n",
       "      <th>codigo_barras</th>\n",
       "      <th>data_renovacao</th>\n",
       "      <th>data_emprestimo</th>\n",
       "      <th>data_devolucao</th>\n",
       "      <th>matricula_ou_siape</th>\n",
       "      <th>tipo_vinculo_usuario</th>\n",
       "    </tr>\n",
       "  </thead>\n",
       "  <tbody>\n",
       "    <tr>\n",
       "      <th>0</th>\n",
       "      <td>709684</td>\n",
       "      <td>L095049</td>\n",
       "      <td>NaN</td>\n",
       "      <td>2010/01/04 07:44:10.721000000</td>\n",
       "      <td>2010/01/05 16:26:12.662000000</td>\n",
       "      <td>2.008023e+09</td>\n",
       "      <td>ALUNO DE GRADUAÇÃO</td>\n",
       "    </tr>\n",
       "    <tr>\n",
       "      <th>1</th>\n",
       "      <td>709685</td>\n",
       "      <td>L167050</td>\n",
       "      <td>NaN</td>\n",
       "      <td>2010/01/04 07:44:10.750000000</td>\n",
       "      <td>2010/01/12 07:34:13.934000000</td>\n",
       "      <td>2.008023e+09</td>\n",
       "      <td>ALUNO DE GRADUAÇÃO</td>\n",
       "    </tr>\n",
       "    <tr>\n",
       "      <th>2</th>\n",
       "      <td>709686</td>\n",
       "      <td>2006017618</td>\n",
       "      <td>2010/01/26 08:07:01.738000000</td>\n",
       "      <td>2010/01/04 08:08:44.081000000</td>\n",
       "      <td>2010/02/25 07:36:25.800000000</td>\n",
       "      <td>2.008112e+09</td>\n",
       "      <td>ALUNO DE PÓS-GRADUAÇÃO</td>\n",
       "    </tr>\n",
       "    <tr>\n",
       "      <th>3</th>\n",
       "      <td>709687</td>\n",
       "      <td>L184117</td>\n",
       "      <td>2010/01/18 11:07:46.470000000</td>\n",
       "      <td>2010/01/04 08:24:21.284000000</td>\n",
       "      <td>2010/02/03 08:58:45.692000000</td>\n",
       "      <td>2.007211e+08</td>\n",
       "      <td>ALUNO DE GRADUAÇÃO</td>\n",
       "    </tr>\n",
       "    <tr>\n",
       "      <th>4</th>\n",
       "      <td>709684</td>\n",
       "      <td>L095049</td>\n",
       "      <td>NaN</td>\n",
       "      <td>2010/01/04 07:44:10.721000000</td>\n",
       "      <td>2010/01/05 16:26:12.662000000</td>\n",
       "      <td>2.008023e+09</td>\n",
       "      <td>ALUNO DE GRADUAÇÃO</td>\n",
       "    </tr>\n",
       "  </tbody>\n",
       "</table>\n",
       "</div>"
      ],
      "text/plain": [
       "   id_emprestimo codigo_barras                 data_renovacao  \\\n",
       "0         709684       L095049                            NaN   \n",
       "1         709685       L167050                            NaN   \n",
       "2         709686    2006017618  2010/01/26 08:07:01.738000000   \n",
       "3         709687       L184117  2010/01/18 11:07:46.470000000   \n",
       "4         709684       L095049                            NaN   \n",
       "\n",
       "                 data_emprestimo                 data_devolucao  \\\n",
       "0  2010/01/04 07:44:10.721000000  2010/01/05 16:26:12.662000000   \n",
       "1  2010/01/04 07:44:10.750000000  2010/01/12 07:34:13.934000000   \n",
       "2  2010/01/04 08:08:44.081000000  2010/02/25 07:36:25.800000000   \n",
       "3  2010/01/04 08:24:21.284000000  2010/02/03 08:58:45.692000000   \n",
       "4  2010/01/04 07:44:10.721000000  2010/01/05 16:26:12.662000000   \n",
       "\n",
       "   matricula_ou_siape    tipo_vinculo_usuario  \n",
       "0        2.008023e+09      ALUNO DE GRADUAÇÃO  \n",
       "1        2.008023e+09      ALUNO DE GRADUAÇÃO  \n",
       "2        2.008112e+09  ALUNO DE PÓS-GRADUAÇÃO  \n",
       "3        2.007211e+08      ALUNO DE GRADUAÇÃO  \n",
       "4        2.008023e+09      ALUNO DE GRADUAÇÃO  "
      ]
     },
     "execution_count": 25,
     "metadata": {},
     "output_type": "execute_result"
    }
   ],
   "source": [
    "dataframe.head()"
   ]
  },
  {
   "cell_type": "code",
   "execution_count": 26,
   "metadata": {},
   "outputs": [
    {
     "data": {
      "text/plain": [
       "2010091988    196\n",
       "2015009066    184\n",
       "2011075249    165\n",
       "2009036153    150\n",
       "2009055616    148\n",
       "             ... \n",
       "2006018133      1\n",
       "S006410         1\n",
       "2009010899      1\n",
       "L200826         1\n",
       "2018031352      1\n",
       "Name: codigo_barras, Length: 276757, dtype: int64"
      ]
     },
     "execution_count": 26,
     "metadata": {},
     "output_type": "execute_result"
    }
   ],
   "source": [
    "dataframe[\"codigo_barras\"].value_counts()\n"
   ]
  },
  {
   "cell_type": "code",
   "execution_count": 17,
   "metadata": {},
   "outputs": [
    {
     "data": {
      "text/plain": [
       "0   2010-01-04 07:44:10.721\n",
       "1   2010-01-04 07:44:10.750\n",
       "2   2010-01-04 08:08:44.081\n",
       "3   2010-01-04 08:24:21.284\n",
       "4   2010-01-04 07:44:10.721\n",
       "Name: data_emprestimo, dtype: datetime64[ns]"
      ]
     },
     "execution_count": 17,
     "metadata": {},
     "output_type": "execute_result"
    }
   ],
   "source": [
    "# dados.data_emprestimo.dt.date\n",
    "dados_data = dados.data_emprestimo = pd.to_datetime(dados.data_emprestimo)\n",
    "# dados_data.data_emprestimo.dt.date\n",
    "dados_data.head()"
   ]
  }
 ],
 "metadata": {
  "kernelspec": {
   "display_name": "Python 3",
   "language": "python",
   "name": "python3"
  },
  "language_info": {
   "codemirror_mode": {
    "name": "ipython",
    "version": 3
   },
   "file_extension": ".py",
   "mimetype": "text/x-python",
   "name": "python",
   "nbconvert_exporter": "python",
   "pygments_lexer": "ipython3",
   "version": "3.11.1"
  },
  "orig_nbformat": 4
 },
 "nbformat": 4,
 "nbformat_minor": 2
}
